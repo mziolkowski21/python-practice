{
 "cells": [
  {
   "cell_type": "code",
   "execution_count": 1,
   "id": "bf25b0df",
   "metadata": {},
   "outputs": [],
   "source": [
    "from IPython.display import clear_output\n",
    "clear_output()"
   ]
  },
  {
   "cell_type": "code",
   "execution_count": 2,
   "id": "11165952",
   "metadata": {},
   "outputs": [],
   "source": [
    "def player_pick():\n",
    "    choice = ''\n",
    "    while choice not in ['X', 'O']:\n",
    "        choice = input(\"Player 1: 'X' or 'O'? \")\n",
    "    return choice"
   ]
  },
  {
   "cell_type": "code",
   "execution_count": 3,
   "id": "c05aa6d6",
   "metadata": {},
   "outputs": [],
   "source": [
    "def display_board(board):\n",
    "    print(board)"
   ]
  },
  {
   "cell_type": "code",
   "execution_count": 4,
   "id": "4eb3943a",
   "metadata": {},
   "outputs": [],
   "source": [
    "def move_pick():\n",
    "    choice = ''\n",
    "    positions = [str(num) for num in range(1,10)]\n",
    "    \n",
    "    while choice not in positions:\n",
    "        choice = input(\"Please enter a position from 1 to 9: \")\n",
    "        \n",
    "        if choice not in positions:\n",
    "            clear_output()\n",
    "            print(\"Wrong position\")\n",
    "    \n",
    "    return int(choice)"
   ]
  },
  {
   "cell_type": "code",
   "execution_count": 10,
   "id": "9ddcc925",
   "metadata": {},
   "outputs": [],
   "source": [
    "def tic_tac_toe():\n",
    "    playing = True\n",
    "    playing2 = True\n",
    "    c = ['1', '2', '3', '4', '5', '6', '7', '8', '9']\n",
    "    board = f'|   {c[0]}\\t|   {c[1]}\\t|   {c[2]}\\t|\\n-------------------------\\n|   {c[3]}\\t|   {c[4]}\\t|   {c[5]}\\t|\\n-------------------------\\n|   {c[6]}\\t|   {c[7]}\\t|   {c[8]}\\t|\\n'\n",
    "    taken = [0]\n",
    "    choice = 0\n",
    "    turn = 0\n",
    "    \n",
    "    \n",
    "\n",
    "    \n",
    "    print(\"Welcome to Tic Tac Toe Game\\n\")\n",
    "    \n",
    "    while playing:\n",
    "        \n",
    "        start_question = ''\n",
    "        display_board(board)\n",
    "\n",
    "        while start_question not in ['Y', 'N']:\n",
    "            start_question = input(\"Do you want to play? (Y/N) \").upper()\n",
    "            if start_question not in ['Y', 'N']:\n",
    "                clear_output()\n",
    "                print(\"wrong choice partner\")\n",
    "        if choice == 'N':\n",
    "            playing = False\n",
    "            playing2 = False\n",
    "        elif choice == 'Y':\n",
    "            playing2 = True\n",
    "        \n",
    "        \n",
    "        \n",
    "        \n",
    "        \n",
    "        player = player_pick()\n",
    "\n",
    "        if player == 'O':            \n",
    "            print(\"Player 1 begins\\n\\n\")\n",
    "            player_O = \"Player 1\"\n",
    "            player_X = \"Player 2\"\n",
    "        elif player == 'X':\n",
    "            print(\"Player 2 begins\\n\\n\")\n",
    "            player_O = \"Player 2\"\n",
    "            player_X = \"Player 1\"\n",
    "        \n",
    "        while playing2:\n",
    "            \n",
    "            if turn == 0:\n",
    "                c = ['', '', '', '', '', '', '', '', '']\n",
    "            board = f'|   {c[0]}\\t|   {c[1]}\\t|   {c[2]}\\t|\\n-------------------------\\n|   {c[3]}\\t|   {c[4]}\\t|   {c[5]}\\t|\\n-------------------------\\n|   {c[6]}\\t|   {c[7]}\\t|   {c[8]}\\t|\\n'\n",
    "            \n",
    "            display_board(board)\n",
    "            \n",
    "            \n",
    "\n",
    "        \n",
    "            while choice in taken:\n",
    "                choice = move_pick()\n",
    "                print(choice)\n",
    "                print(taken)\n",
    "                if choice in taken:\n",
    "                    clear_output()\n",
    "                    print(\"Already picked, please choose different field \")\n",
    "                    display_board(board)\n",
    "\n",
    "            taken.append(choice)\n",
    "            if turn % 2 == 0:\n",
    "                c[choice-1] = 'O'\n",
    "            else:\n",
    "                c[choice-1] = 'X'\n",
    "\n",
    "\n",
    "            turn += 1\n",
    "            clear_output()\n",
    "            \n",
    "            horizontal = (c[0] == c[1] == c[2] != '' or c[3] == c[4] == c[5] != '' or c[6] == c[7] == c[8] != '')\n",
    "            vertical = (c[0] == c[3] == c[6] != '' or c[1] == c[4] == c[7] != '' or c[2] == c[5] == c[8] != '')\n",
    "            diagonal = (c[0] == c[4] == c[8] != '' or c[2] == c[4] == c[6] != '')\n",
    "            \n",
    "            if horizontal or vertical or diagonal: \n",
    "                if turn % 2 == 0:\n",
    "                    print(f\"{player_O} wins\")\n",
    "                elif turn %2 != 0:\n",
    "                    print(f\"{player_X} wins\")\n",
    "                playing2 = False\n",
    "            elif '' not in c:\n",
    "                print(\"Draw\")\n",
    "                playing2 = False\n",
    "                \n",
    "            if playing2 == False:\n",
    "                board = f'|   {c[0]}\\t|   {c[1]}\\t|   {c[2]}\\t|\\n-------------------------\\n|   {c[3]}\\t|   {c[4]}\\t|   {c[5]}\\t|\\n-------------------------\\n|   {c[6]}\\t|   {c[7]}\\t|   {c[8]}\\t|\\n'"
   ]
  },
  {
   "cell_type": "code",
   "execution_count": 11,
   "id": "f26e3263",
   "metadata": {
    "scrolled": true
   },
   "outputs": [
    {
     "name": "stdout",
     "output_type": "stream",
     "text": [
      "Player 1 wins\n",
      "|   O\t|   X\t|   \t|\n",
      "-------------------------\n",
      "|   O\t|   X\t|   \t|\n",
      "-------------------------\n",
      "|   O\t|   \t|   \t|\n",
      "\n"
     ]
    },
    {
     "ename": "KeyboardInterrupt",
     "evalue": "Interrupted by user",
     "output_type": "error",
     "traceback": [
      "\u001b[1;31m---------------------------------------------------------------------------\u001b[0m",
      "\u001b[1;31mKeyboardInterrupt\u001b[0m                         Traceback (most recent call last)",
      "\u001b[1;32m~\\AppData\\Local\\Temp/ipykernel_17160/1771972434.py\u001b[0m in \u001b[0;36m<module>\u001b[1;34m\u001b[0m\n\u001b[1;32m----> 1\u001b[1;33m \u001b[0mtic_tac_toe\u001b[0m\u001b[1;33m(\u001b[0m\u001b[1;33m)\u001b[0m\u001b[1;33m\u001b[0m\u001b[1;33m\u001b[0m\u001b[0m\n\u001b[0m",
      "\u001b[1;32m~\\AppData\\Local\\Temp/ipykernel_17160/2439405961.py\u001b[0m in \u001b[0;36mtic_tac_toe\u001b[1;34m()\u001b[0m\n\u001b[0;32m     19\u001b[0m \u001b[1;33m\u001b[0m\u001b[0m\n\u001b[0;32m     20\u001b[0m         \u001b[1;32mwhile\u001b[0m \u001b[0mstart_question\u001b[0m \u001b[1;32mnot\u001b[0m \u001b[1;32min\u001b[0m \u001b[1;33m[\u001b[0m\u001b[1;34m'Y'\u001b[0m\u001b[1;33m,\u001b[0m \u001b[1;34m'N'\u001b[0m\u001b[1;33m]\u001b[0m\u001b[1;33m:\u001b[0m\u001b[1;33m\u001b[0m\u001b[1;33m\u001b[0m\u001b[0m\n\u001b[1;32m---> 21\u001b[1;33m             \u001b[0mstart_question\u001b[0m \u001b[1;33m=\u001b[0m \u001b[0minput\u001b[0m\u001b[1;33m(\u001b[0m\u001b[1;34m\"Do you want to play? (Y/N) \"\u001b[0m\u001b[1;33m)\u001b[0m\u001b[1;33m.\u001b[0m\u001b[0mupper\u001b[0m\u001b[1;33m(\u001b[0m\u001b[1;33m)\u001b[0m\u001b[1;33m\u001b[0m\u001b[1;33m\u001b[0m\u001b[0m\n\u001b[0m\u001b[0;32m     22\u001b[0m             \u001b[1;32mif\u001b[0m \u001b[0mstart_question\u001b[0m \u001b[1;32mnot\u001b[0m \u001b[1;32min\u001b[0m \u001b[1;33m[\u001b[0m\u001b[1;34m'Y'\u001b[0m\u001b[1;33m,\u001b[0m \u001b[1;34m'N'\u001b[0m\u001b[1;33m]\u001b[0m\u001b[1;33m:\u001b[0m\u001b[1;33m\u001b[0m\u001b[1;33m\u001b[0m\u001b[0m\n\u001b[0;32m     23\u001b[0m                 \u001b[0mclear_output\u001b[0m\u001b[1;33m(\u001b[0m\u001b[1;33m)\u001b[0m\u001b[1;33m\u001b[0m\u001b[1;33m\u001b[0m\u001b[0m\n",
      "\u001b[1;32m~\\Desktop\\program\\python_bootcamp\\env\\lib\\site-packages\\ipykernel\\kernelbase.py\u001b[0m in \u001b[0;36mraw_input\u001b[1;34m(self, prompt)\u001b[0m\n\u001b[0;32m   1004\u001b[0m                 \u001b[1;34m\"raw_input was called, but this frontend does not support input requests.\"\u001b[0m\u001b[1;33m\u001b[0m\u001b[1;33m\u001b[0m\u001b[0m\n\u001b[0;32m   1005\u001b[0m             )\n\u001b[1;32m-> 1006\u001b[1;33m         return self._input_request(\n\u001b[0m\u001b[0;32m   1007\u001b[0m             \u001b[0mstr\u001b[0m\u001b[1;33m(\u001b[0m\u001b[0mprompt\u001b[0m\u001b[1;33m)\u001b[0m\u001b[1;33m,\u001b[0m\u001b[1;33m\u001b[0m\u001b[1;33m\u001b[0m\u001b[0m\n\u001b[0;32m   1008\u001b[0m             \u001b[0mself\u001b[0m\u001b[1;33m.\u001b[0m\u001b[0m_parent_ident\u001b[0m\u001b[1;33m[\u001b[0m\u001b[1;34m\"shell\"\u001b[0m\u001b[1;33m]\u001b[0m\u001b[1;33m,\u001b[0m\u001b[1;33m\u001b[0m\u001b[1;33m\u001b[0m\u001b[0m\n",
      "\u001b[1;32m~\\Desktop\\program\\python_bootcamp\\env\\lib\\site-packages\\ipykernel\\kernelbase.py\u001b[0m in \u001b[0;36m_input_request\u001b[1;34m(self, prompt, ident, parent, password)\u001b[0m\n\u001b[0;32m   1049\u001b[0m             \u001b[1;32mexcept\u001b[0m \u001b[0mKeyboardInterrupt\u001b[0m\u001b[1;33m:\u001b[0m\u001b[1;33m\u001b[0m\u001b[1;33m\u001b[0m\u001b[0m\n\u001b[0;32m   1050\u001b[0m                 \u001b[1;31m# re-raise KeyboardInterrupt, to truncate traceback\u001b[0m\u001b[1;33m\u001b[0m\u001b[1;33m\u001b[0m\u001b[0m\n\u001b[1;32m-> 1051\u001b[1;33m                 \u001b[1;32mraise\u001b[0m \u001b[0mKeyboardInterrupt\u001b[0m\u001b[1;33m(\u001b[0m\u001b[1;34m\"Interrupted by user\"\u001b[0m\u001b[1;33m)\u001b[0m \u001b[1;32mfrom\u001b[0m \u001b[1;32mNone\u001b[0m\u001b[1;33m\u001b[0m\u001b[1;33m\u001b[0m\u001b[0m\n\u001b[0m\u001b[0;32m   1052\u001b[0m             \u001b[1;32mexcept\u001b[0m \u001b[0mException\u001b[0m\u001b[1;33m:\u001b[0m\u001b[1;33m\u001b[0m\u001b[1;33m\u001b[0m\u001b[0m\n\u001b[0;32m   1053\u001b[0m                 \u001b[0mself\u001b[0m\u001b[1;33m.\u001b[0m\u001b[0mlog\u001b[0m\u001b[1;33m.\u001b[0m\u001b[0mwarning\u001b[0m\u001b[1;33m(\u001b[0m\u001b[1;34m\"Invalid Message:\"\u001b[0m\u001b[1;33m,\u001b[0m \u001b[0mexc_info\u001b[0m\u001b[1;33m=\u001b[0m\u001b[1;32mTrue\u001b[0m\u001b[1;33m)\u001b[0m\u001b[1;33m\u001b[0m\u001b[1;33m\u001b[0m\u001b[0m\n",
      "\u001b[1;31mKeyboardInterrupt\u001b[0m: Interrupted by user"
     ]
    }
   ],
   "source": [
    "tic_tac_toe()"
   ]
  },
  {
   "cell_type": "code",
   "execution_count": 87,
   "id": "1c1c7f54",
   "metadata": {},
   "outputs": [
    {
     "data": {
      "text/plain": [
       "['b']"
      ]
     },
     "execution_count": 87,
     "metadata": {},
     "output_type": "execute_result"
    }
   ],
   "source": []
  },
  {
   "cell_type": "code",
   "execution_count": 152,
   "id": "4ca7ccfd",
   "metadata": {},
   "outputs": [
    {
     "name": "stdout",
     "output_type": "stream",
     "text": [
      "|   X\t|   2\t|   3\t|\n",
      "-------------------------\n",
      "|   4\t|   5\t|   6\t|\n",
      "-------------------------\n",
      "|   7\t|   8\t|   9\t|\n",
      "\n"
     ]
    }
   ],
   "source": [
    "board = f'|   {c[0]}\\t|   {c[1]}\\t|   {c[2]}\\t|\\n-------------------------\\n|   {c[3]}\\t|   {c[4]}\\t|   {c[5]}\\t|\\n-------------------------\\n|   {c[6]}\\t|   {c[7]}\\t|   {c[8]}\\t|\\n'\n",
    "c = ['1', '2', '3', '4', '5', '6', '7', '8', '9']\n",
    "\n",
    "print(board)"
   ]
  },
  {
   "cell_type": "code",
   "execution_count": 153,
   "id": "8f5d26e1",
   "metadata": {},
   "outputs": [
    {
     "ename": "TypeError",
     "evalue": "replace expected at least 2 arguments, got 0",
     "output_type": "error",
     "traceback": [
      "\u001b[1;31m---------------------------------------------------------------------------\u001b[0m",
      "\u001b[1;31mTypeError\u001b[0m                                 Traceback (most recent call last)",
      "\u001b[1;32m~\\AppData\\Local\\Temp/ipykernel_7872/1403024633.py\u001b[0m in \u001b[0;36m<module>\u001b[1;34m\u001b[0m\n\u001b[0;32m      1\u001b[0m \u001b[0mc\u001b[0m\u001b[1;33m[\u001b[0m\u001b[1;36m0\u001b[0m\u001b[1;33m]\u001b[0m \u001b[1;33m=\u001b[0m \u001b[1;34m'X'\u001b[0m\u001b[1;33m\u001b[0m\u001b[1;33m\u001b[0m\u001b[0m\n\u001b[1;32m----> 2\u001b[1;33m \u001b[0mboard\u001b[0m \u001b[1;33m=\u001b[0m \u001b[0mboard\u001b[0m\u001b[1;33m.\u001b[0m\u001b[0mreplace\u001b[0m\u001b[1;33m(\u001b[0m\u001b[1;33m)\u001b[0m\u001b[1;33m\u001b[0m\u001b[1;33m\u001b[0m\u001b[0m\n\u001b[0m\u001b[0;32m      3\u001b[0m \u001b[0mprint\u001b[0m\u001b[1;33m(\u001b[0m\u001b[0mboard\u001b[0m\u001b[1;33m)\u001b[0m\u001b[1;33m\u001b[0m\u001b[1;33m\u001b[0m\u001b[0m\n",
      "\u001b[1;31mTypeError\u001b[0m: replace expected at least 2 arguments, got 0"
     ]
    }
   ],
   "source": []
  },
  {
   "cell_type": "code",
   "execution_count": null,
   "id": "a1d0f65d",
   "metadata": {},
   "outputs": [],
   "source": []
  }
 ],
 "metadata": {
  "kernelspec": {
   "display_name": "Python 3 (ipykernel)",
   "language": "python",
   "name": "python3"
  },
  "language_info": {
   "codemirror_mode": {
    "name": "ipython",
    "version": 3
   },
   "file_extension": ".py",
   "mimetype": "text/x-python",
   "name": "python",
   "nbconvert_exporter": "python",
   "pygments_lexer": "ipython3",
   "version": "3.9.7"
  }
 },
 "nbformat": 4,
 "nbformat_minor": 5
}
